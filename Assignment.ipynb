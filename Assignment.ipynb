{
  "nbformat": 4,
  "nbformat_minor": 0,
  "metadata": {
    "colab": {
      "provenance": [],
      "authorship_tag": "ABX9TyMFRfFRFx+sWx8T42I1LMzE",
      "include_colab_link": true
    },
    "kernelspec": {
      "name": "python3",
      "display_name": "Python 3"
    },
    "language_info": {
      "name": "python"
    }
  },
  "cells": [
    {
      "cell_type": "markdown",
      "metadata": {
        "id": "view-in-github",
        "colab_type": "text"
      },
      "source": [
        "<a href=\"https://colab.research.google.com/github/N-Saipraveen/N-Saipraveen/blob/main/Assignment.ipynb\" target=\"_parent\"><img src=\"https://colab.research.google.com/assets/colab-badge.svg\" alt=\"Open In Colab\"/></a>"
      ]
    },
    {
      "cell_type": "markdown",
      "source": [
        "### **G1 Slot paper**"
      ],
      "metadata": {
        "id": "sHbprY_WUD-y"
      }
    },
    {
      "cell_type": "code",
      "execution_count": 5,
      "metadata": {
        "colab": {
          "base_uri": "https://localhost:8080/"
        },
        "id": "S4hgo62b-aXa",
        "outputId": "3cc763a5-8035-46c7-bc4f-22b1ef2b9323"
      },
      "outputs": [
        {
          "output_type": "stream",
          "name": "stdout",
          "text": [
            "True\n",
            "True\n",
            "False\n"
          ]
        }
      ],
      "source": [
        "def is_happy(n):\n",
        "    seen = set()\n",
        "    while n not in seen:\n",
        "        seen.add(n)\n",
        "        n = sum(int(i)**2 for i in str(n))\n",
        "        if n == 1:\n",
        "            return True\n",
        "    return False\n",
        "\n",
        "print(is_happy(13)) # True\n",
        "print(is_happy(19)) # True\n",
        "print(is_happy(21)) # False\n"
      ]
    },
    {
      "cell_type": "code",
      "source": [
        "def season(month):\n",
        "    if month < 1 or month > 12:\n",
        "        return \"Invalid month\"\n",
        "    elif month >= 3 and month <= 5:\n",
        "        return \"Spring\"\n",
        "    elif month >= 6 and month <= 8:\n",
        "        return \"Summer\"\n",
        "    elif month >= 9 and month <= 11:\n",
        "        return \"Autumn\"\n",
        "    else:\n",
        "        return \"Winter\"\n",
        "\n",
        "month = int(input(\"Enter the month: \"))\n",
        "print(\"Season:\", season(month))\n"
      ],
      "metadata": {
        "colab": {
          "base_uri": "https://localhost:8080/"
        },
        "id": "RH2skRdHAjH3",
        "outputId": "4d3b42e2-8041-46de-e38a-1f8e78aaefdd"
      },
      "execution_count": 7,
      "outputs": [
        {
          "output_type": "stream",
          "name": "stdout",
          "text": [
            "Enter the month: 2\n",
            "Season: Winter\n"
          ]
        }
      ]
    },
    {
      "cell_type": "code",
      "source": [
        "def ticket_cost(tickets, circle, coupon, refreshments):\n",
        "    if tickets < 5 or tickets > 40:\n",
        "        return \"Minimum of 5 and Maximum of 40 Tickets\"\n",
        "    if circle not in [\"k\", \"q\"]:\n",
        "        return \"Invalid Input\"\n",
        "    cost = 0\n",
        "    if circle == \"k\":\n",
        "        cost += tickets * 75\n",
        "    else:\n",
        "        cost += tickets * 150\n",
        "    if refreshments:\n",
        "        cost += tickets * 50\n",
        "    if coupon:\n",
        "        cost *= 0.98\n",
        "    if tickets > 20:\n",
        "        cost *= 0.9\n",
        "    return cost\n",
        "\n",
        "tickets = int(input(\"Enter the number of tickets: \"))\n",
        "circle = input(\"Enter the class (k or q): \")\n",
        "coupon = input(\"Do you have a coupon? (y or n): \")\n",
        "refreshments = input(\"Do you want refreshments? (y or n): \")\n",
        "print(\"Total cost:\", ticket_cost(tickets, circle, coupon == \"y\", refreshments == \"y\"))\n"
      ],
      "metadata": {
        "colab": {
          "base_uri": "https://localhost:8080/"
        },
        "id": "qFsoqh3HBrfi",
        "outputId": "b4cedd65-4875-48e0-cd85-ce181ae8734e"
      },
      "execution_count": 8,
      "outputs": [
        {
          "output_type": "stream",
          "name": "stdout",
          "text": [
            "Enter the number of tickets: 33\n",
            "Enter the class (k or q): q\n",
            "Do you have a coupon? (y or n): y\n",
            "Do you want refreshments? (y or n): y\n",
            "Total cost: 5821.2\n"
          ]
        }
      ]
    },
    {
      "cell_type": "code",
      "source": [
        "def vehicle_production(V, W):\n",
        "    # equation for the number of two-wheelers and four-wheelers\n",
        "    # V = TW + FW\n",
        "    # W = 2 * TW + 4 * FW\n",
        "    # solving for TW and FW, we get:\n",
        "    TW = (W - 2 * V) / 2\n",
        "    FW = V - TW\n",
        "    if TW < 0 or FW < 0:\n",
        "        return \"Invalid Input\"\n",
        "    else:\n",
        "        return int(TW), int(FW)\n",
        "\n",
        "V = int(input(\"Enter the total number of vehicles (TW + FW): \"))\n",
        "W = int(input(\"Enter the total number of wheels: \"))\n",
        "TW, FW = vehicle_production(V, W)\n",
        "if TW < 0 or FW < 0:\n",
        "    print(\"Invalid Input\")\n",
        "else:\n",
        "    print(\"Two-wheelers:\", TW)\n",
        "    print(\"Four-wheelers:\", FW)\n"
      ],
      "metadata": {
        "colab": {
          "base_uri": "https://localhost:8080/"
        },
        "id": "QCQjbE52CcFV",
        "outputId": "07d5981e-3367-4b38-defb-f48093aa4e9b"
      },
      "execution_count": 10,
      "outputs": [
        {
          "output_type": "stream",
          "name": "stdout",
          "text": [
            "Enter the total number of vehicles (TW + FW): 200\n",
            "Enter the total number of wheels: 540\n",
            "Two-wheelers: 70\n",
            "Four-wheelers: 130\n"
          ]
        }
      ]
    },
    {
      "cell_type": "code",
      "source": [
        "n = int(input(\"enter the number of rows\"))\n",
        "a = 65\n",
        "for i in range (0,n+1):\n",
        "  for j in range (0 , i):\n",
        "    print(chr(a), \" \" ,end ='')\n",
        "    a = a + 1\n",
        "  print()  "
      ],
      "metadata": {
        "colab": {
          "base_uri": "https://localhost:8080/"
        },
        "id": "KrQakbD1D6bs",
        "outputId": "95e8783a-b4df-475e-ee3e-b4ac6270d652"
      },
      "execution_count": 19,
      "outputs": [
        {
          "output_type": "stream",
          "name": "stdout",
          "text": [
            "enter the number of rows5\n",
            "\n",
            "A  \n",
            "B  C  \n",
            "D  E  F  \n",
            "G  H  I  J  \n",
            "K  L  M  N  O  \n"
          ]
        }
      ]
    },
    {
      "cell_type": "code",
      "source": [
        "def sum_of_carries(x, y):\n",
        "    carry = 0\n",
        "    result = 0\n",
        "    while x > 0 or y > 0:\n",
        "        x_unit = x % 10\n",
        "        y_unit = y % 10\n",
        "        x = x // 10\n",
        "        y = y // 10\n",
        "        if x_unit + y_unit + carry > 9:\n",
        "            carry = 1\n",
        "            result += 1\n",
        "        else:\n",
        "            carry = 0\n",
        "    return result\n",
        "\n",
        "x = int(input(\"Enter the first number: \"))\n",
        "y = int(input(\"Enter the second number: \"))\n",
        "print(\"Sum of carries:\", sum_of_carries(x, y))\n"
      ],
      "metadata": {
        "colab": {
          "base_uri": "https://localhost:8080/"
        },
        "id": "IwN0UcNhSocn",
        "outputId": "1e930e43-c25a-4eaa-e172-830aa238bf47"
      },
      "execution_count": 20,
      "outputs": [
        {
          "output_type": "stream",
          "name": "stdout",
          "text": [
            "Enter the first number: 819\n",
            "Enter the second number: 9219\n",
            "Sum of carries: 3\n"
          ]
        }
      ]
    },
    {
      "cell_type": "code",
      "source": [
        "def binary_to_decimal(binary):\n",
        "    decimal = 0\n",
        "    for digit in binary:\n",
        "        decimal = decimal*2 + int(digit)\n",
        "    return decimal\n",
        "\n",
        "def is_prime(n):\n",
        "    if n < 2:\n",
        "        return False\n",
        "    for i in range(2, n):\n",
        "        if n % i == 0:\n",
        "            return False\n",
        "        if i*i > n:\n",
        "            break\n",
        "    return True\n",
        "\n",
        "binary = input(\"Enter a binary number: \")\n",
        "decimal = binary_to_decimal(binary)\n",
        "if is_prime(decimal):\n",
        "    print(decimal, \"is prime\")\n",
        "else:\n",
        "    print(decimal, \"is not prime\")\n"
      ],
      "metadata": {
        "colab": {
          "base_uri": "https://localhost:8080/"
        },
        "id": "U_Zjlu1ZSt-0",
        "outputId": "2b35d42d-1379-424a-830f-808984cecba0"
      },
      "execution_count": 22,
      "outputs": [
        {
          "output_type": "stream",
          "name": "stdout",
          "text": [
            "Enter a binary number: 111\n",
            "7 is prime\n"
          ]
        }
      ]
    },
    {
      "cell_type": "markdown",
      "source": [
        "## **G2 Slot paper**"
      ],
      "metadata": {
        "id": "e658fB4eUhJZ"
      }
    },
    {
      "cell_type": "code",
      "source": [
        "decimal = 42\n",
        "octal = \"\"\n",
        "while decimal > 0:\n",
        "    remainder = decimal % 8\n",
        "    octal = str(remainder) + octal\n",
        "    decimal = decimal // 8\n",
        "print(octal)\n"
      ],
      "metadata": {
        "colab": {
          "base_uri": "https://localhost:8080/"
        },
        "id": "wYXjdb8eUqCE",
        "outputId": "2119647d-ca74-4ba5-c576-254372717322"
      },
      "execution_count": 23,
      "outputs": [
        {
          "output_type": "stream",
          "name": "stdout",
          "text": [
            "52\n"
          ]
        }
      ]
    },
    {
      "cell_type": "code",
      "source": [
        "number = int(input(\"Enter a number: \"))\n",
        "sum_of_digits = 0\n",
        "while number > 0:\n",
        "    sum_of_digits += number % 10\n",
        "    number = number // 10\n",
        "if sum_of_digits % 2 == 0:\n",
        "    print(\"Sum of digits is even\")\n",
        "else:\n",
        "    print(\"Sum of digits is odd\")\n"
      ],
      "metadata": {
        "colab": {
          "base_uri": "https://localhost:8080/"
        },
        "id": "_zIgEHBCUpSF",
        "outputId": "b620ca2f-6c48-431c-91fb-8d4cff37f961"
      },
      "execution_count": 24,
      "outputs": [
        {
          "output_type": "stream",
          "name": "stdout",
          "text": [
            "Enter a number: 245\n",
            "Sum of digits is odd\n"
          ]
        }
      ]
    },
    {
      "cell_type": "code",
      "source": [
        "income = float(input(\"Enter the employee's total income: \"))\n",
        "taxable_income = 0\n",
        "\n",
        "if income <= 300000:\n",
        "    print(\"Taxable income:\", taxable_income)\n",
        "    print(\"Tax amount: Nil\")\n",
        "elif income <= 500000:\n",
        "    taxable_income = income - 300000\n",
        "    tax = taxable_income * 0.05\n",
        "    print(\"Taxable income:\", taxable_income)\n",
        "    print(\"Tax amount:\", tax)\n",
        "elif income <= 1000000:\n",
        "    taxable_income = income - 500000\n",
        "    tax = taxable_income * 0.20 + 10000\n",
        "    print(\"Taxable income:\", taxable_income)\n",
        "    print(\"Tax amount:\", tax)\n",
        "else:\n",
        "    taxable_income = income - 1000000\n",
        "    tax = taxable_income * 0.30 + 110000\n",
        "    print(\"Taxable income:\", taxable_income)\n",
        "    print(\"Tax amount:\", tax)\n"
      ],
      "metadata": {
        "colab": {
          "base_uri": "https://localhost:8080/"
        },
        "id": "-JNWCKhcXgbp",
        "outputId": "f1aca34f-561c-4c2a-df50-ff1b41d551f0"
      },
      "execution_count": 25,
      "outputs": [
        {
          "output_type": "stream",
          "name": "stdout",
          "text": [
            "Enter the employee's total income: 852855\n",
            "Taxable income: 352855.0\n",
            "Tax amount: 80571.0\n"
          ]
        }
      ]
    },
    {
      "cell_type": "code",
      "source": [
        "def print_pyramid(n):\n",
        "    for i in range(1, n + 1):\n",
        "        print(\" \" * (n - i) + \"\".join(str(j) for j in range(i, 2 * i)) + \"\".join(str(j) for j in range(2 * i - 2, i - 1, -1)))\n",
        "\n",
        "print_pyramid(4)\n"
      ],
      "metadata": {
        "colab": {
          "base_uri": "https://localhost:8080/"
        },
        "id": "rJW8zAisXlk1",
        "outputId": "0034a430-4da0-4a5e-8361-167d77a6d61d"
      },
      "execution_count": 29,
      "outputs": [
        {
          "output_type": "stream",
          "name": "stdout",
          "text": [
            "   1\n",
            "  232\n",
            " 34543\n",
            "4567654\n"
          ]
        }
      ]
    }
  ]
}