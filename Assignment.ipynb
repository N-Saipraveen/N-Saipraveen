{
  "nbformat": 4,
  "nbformat_minor": 0,
  "metadata": {
    "colab": {
      "provenance": [],
      "authorship_tag": "ABX9TyPLTaagY4kl6BUneAQqTSFg",
      "include_colab_link": true
    },
    "kernelspec": {
      "name": "python3",
      "display_name": "Python 3"
    },
    "language_info": {
      "name": "python"
    }
  },
  "cells": [
    {
      "cell_type": "markdown",
      "metadata": {
        "id": "view-in-github",
        "colab_type": "text"
      },
      "source": [
        "<a href=\"https://colab.research.google.com/github/N-Saipraveen/N-Saipraveen/blob/main/Assignment.ipynb\" target=\"_parent\"><img src=\"https://colab.research.google.com/assets/colab-badge.svg\" alt=\"Open In Colab\"/></a>"
      ]
    },
    {
      "cell_type": "markdown",
      "source": [
        "### **G1 Slot paper**"
      ],
      "metadata": {
        "id": "sHbprY_WUD-y"
      }
    },
    {
      "cell_type": "code",
      "execution_count": null,
      "metadata": {
        "colab": {
          "base_uri": "https://localhost:8080/"
        },
        "id": "S4hgo62b-aXa",
        "outputId": "0f408615-5930-4d45-8831-79db8d99c042"
      },
      "outputs": [
        {
          "output_type": "stream",
          "name": "stdout",
          "text": [
            "True\n",
            "True\n",
            "False\n"
          ]
        }
      ],
      "source": [
        "def is_happy(n):\n",
        "    seen = set()\n",
        "    while n not in seen:\n",
        "        seen.add(n)\n",
        "        n = sum(int(i)**2 for i in str(n))\n",
        "        if n == 1:\n",
        "            return True\n",
        "    return False\n",
        "\n",
        "print(is_happy(13)) # True\n",
        "print(is_happy(19)) # True\n",
        "print(is_happy(21)) # False\n"
      ]
    },
    {
      "cell_type": "code",
      "source": [
        "def season(month):\n",
        "    if month < 1 or month > 12:\n",
        "        return \"Invalid month\"\n",
        "    elif month >= 3 and month <= 5:\n",
        "        return \"Spring\"\n",
        "    elif month >= 6 and month <= 8:\n",
        "        return \"Summer\"\n",
        "    elif month >= 9 and month <= 11:\n",
        "        return \"Autumn\"\n",
        "    else:\n",
        "        return \"Winter\"\n",
        "\n",
        "month = int(input(\"Enter the month: \"))\n",
        "print(\"Season:\", season(month))\n"
      ],
      "metadata": {
        "colab": {
          "base_uri": "https://localhost:8080/"
        },
        "id": "RH2skRdHAjH3",
        "outputId": "cb94a9c2-6e16-4fa4-d73b-cccbd040468f"
      },
      "execution_count": null,
      "outputs": [
        {
          "output_type": "stream",
          "name": "stdout",
          "text": [
            "Enter the month: 2\n",
            "Season: Winter\n"
          ]
        }
      ]
    },
    {
      "cell_type": "code",
      "source": [
        "def ticket_cost(tickets, circle, coupon, refreshments):\n",
        "    if tickets < 5 or tickets > 40:\n",
        "        return \"Minimum of 5 and Maximum of 40 Tickets\"\n",
        "    if circle not in [\"k\", \"q\"]:\n",
        "        return \"Invalid Input\"\n",
        "    cost = 0\n",
        "    if circle == \"k\":\n",
        "        cost += tickets * 75\n",
        "    else:\n",
        "        cost += tickets * 150\n",
        "    if refreshments:\n",
        "        cost += tickets * 50\n",
        "    if coupon:\n",
        "        cost *= 0.98\n",
        "    if tickets > 20:\n",
        "        cost *= 0.9\n",
        "    return cost\n",
        "\n",
        "tickets = int(input(\"Enter the number of tickets: \"))\n",
        "circle = input(\"Enter the class (k or q): \")\n",
        "coupon = input(\"Do you have a coupon? (y or n): \")\n",
        "refreshments = input(\"Do you want refreshments? (y or n): \")\n",
        "print(\"Total cost:\", ticket_cost(tickets, circle, coupon == \"y\", refreshments == \"y\"))\n"
      ],
      "metadata": {
        "colab": {
          "base_uri": "https://localhost:8080/"
        },
        "id": "qFsoqh3HBrfi",
        "outputId": "6688aa95-c80e-4580-a64f-5ddd10de1a90"
      },
      "execution_count": null,
      "outputs": [
        {
          "output_type": "stream",
          "name": "stdout",
          "text": [
            "Enter the number of tickets: 44\n",
            "Enter the class (k or q): g\n",
            "Do you have a coupon? (y or n): y\n",
            "Do you want refreshments? (y or n): y\n",
            "Total cost: Minimum of 5 and Maximum of 40 Tickets\n"
          ]
        }
      ]
    },
    {
      "cell_type": "code",
      "source": [
        "def vehicle_production(V, W):\n",
        "    # equation for the number of two-wheelers and four-wheelers\n",
        "    # V = TW + FW\n",
        "    # W = 2 * TW + 4 * FW\n",
        "    # solving for TW and FW, we get:\n",
        "    TW = (W - 2 * V) / 2\n",
        "    FW = V - TW\n",
        "    if TW < 0 or FW < 0:\n",
        "        return \"Invalid Input\"\n",
        "    else:\n",
        "        return int(TW), int(FW)\n",
        "\n",
        "V = int(input(\"Enter the total number of vehicles (TW + FW): \"))\n",
        "W = int(input(\"Enter the total number of wheels: \"))\n",
        "TW, FW = vehicle_production(V, W)\n",
        "if TW < 0 or FW < 0:\n",
        "    print(\"Invalid Input\")\n",
        "else:\n",
        "    print(\"Two-wheelers:\", TW)\n",
        "    print(\"Four-wheelers:\", FW)\n"
      ],
      "metadata": {
        "colab": {
          "base_uri": "https://localhost:8080/"
        },
        "id": "QCQjbE52CcFV",
        "outputId": "68aee162-1399-44b6-bf62-97d21afbed14"
      },
      "execution_count": null,
      "outputs": [
        {
          "output_type": "stream",
          "name": "stdout",
          "text": [
            "Enter the total number of vehicles (TW + FW): 200\n",
            "Enter the total number of wheels: 540\n",
            "Two-wheelers: 70\n",
            "Four-wheelers: 130\n"
          ]
        }
      ]
    },
    {
      "cell_type": "code",
      "source": [
        "n = int(input(\"enter the number of rows\"))\n",
        "a = 65\n",
        "for i in range (0,n+1):\n",
        "  for j in range (0 , i):\n",
        "    print(chr(a), \" \" ,end ='')\n",
        "    a = a + 1\n",
        "  print()  "
      ],
      "metadata": {
        "colab": {
          "base_uri": "https://localhost:8080/"
        },
        "id": "KrQakbD1D6bs",
        "outputId": "acdebb2a-3cc4-42ce-a887-f08eab2fbb0b"
      },
      "execution_count": null,
      "outputs": [
        {
          "output_type": "stream",
          "name": "stdout",
          "text": [
            "enter the number of rows5\n",
            "\n",
            "A  \n",
            "B  C  \n",
            "D  E  F  \n",
            "G  H  I  J  \n",
            "K  L  M  N  O  \n"
          ]
        }
      ]
    },
    {
      "cell_type": "code",
      "source": [
        "def sum_of_carries(x, y):\n",
        "    carry = 0\n",
        "    result = 0\n",
        "    while x > 0 or y > 0:\n",
        "        x_unit = x % 10\n",
        "        y_unit = y % 10\n",
        "        x = x // 10\n",
        "        y = y // 10\n",
        "        if x_unit + y_unit + carry > 9:\n",
        "            carry = 1\n",
        "            result += 1\n",
        "        else:\n",
        "            carry = 0\n",
        "    return result\n",
        "\n",
        "x = int(input(\"Enter the first number: \"))\n",
        "y = int(input(\"Enter the second number: \"))\n",
        "print(\"Sum of carries:\", sum_of_carries(x, y))\n"
      ],
      "metadata": {
        "colab": {
          "base_uri": "https://localhost:8080/"
        },
        "id": "IwN0UcNhSocn",
        "outputId": "1e315347-6fde-42f3-f695-768935b3583e"
      },
      "execution_count": null,
      "outputs": [
        {
          "output_type": "stream",
          "name": "stdout",
          "text": [
            "Enter the first number: 819\n",
            "Enter the second number: 9219\n",
            "Sum of carries: 3\n"
          ]
        }
      ]
    },
    {
      "cell_type": "code",
      "source": [
        "def binary_to_decimal(binary):\n",
        "    decimal = 0\n",
        "    for digit in binary:\n",
        "        decimal = decimal*2 + int(digit)\n",
        "    return decimal\n",
        "\n",
        "def is_prime(n):\n",
        "    if n < 2:\n",
        "        return False\n",
        "    for i in range(2, n):\n",
        "        if n % i == 0:\n",
        "            return False\n",
        "        if i*i > n:\n",
        "            break\n",
        "    return True\n",
        "\n",
        "binary = input(\"Enter a binary number: \")\n",
        "decimal = binary_to_decimal(binary)\n",
        "if is_prime(decimal):\n",
        "    print(decimal, \"is prime\")\n",
        "else:\n",
        "    print(decimal, \"is not prime\")\n"
      ],
      "metadata": {
        "colab": {
          "base_uri": "https://localhost:8080/"
        },
        "id": "U_Zjlu1ZSt-0",
        "outputId": "e79b6d73-3261-42a5-ae0a-c00dc0176215"
      },
      "execution_count": null,
      "outputs": [
        {
          "output_type": "stream",
          "name": "stdout",
          "text": [
            "Enter a binary number: 111\n",
            "7 is prime\n"
          ]
        }
      ]
    },
    {
      "cell_type": "markdown",
      "source": [
        "## **G2 Slot paper**"
      ],
      "metadata": {
        "id": "e658fB4eUhJZ"
      }
    },
    {
      "cell_type": "code",
      "source": [
        "decimal = 42\n",
        "octal = \"\"\n",
        "while decimal > 0:\n",
        "    remainder = decimal % 8\n",
        "    octal = str(remainder) + octal\n",
        "    decimal = decimal // 8\n",
        "print(octal)\n"
      ],
      "metadata": {
        "colab": {
          "base_uri": "https://localhost:8080/"
        },
        "id": "wYXjdb8eUqCE",
        "outputId": "3c6d0c20-61f1-4225-b150-919ad617ea2d"
      },
      "execution_count": null,
      "outputs": [
        {
          "output_type": "stream",
          "name": "stdout",
          "text": [
            "52\n"
          ]
        }
      ]
    },
    {
      "cell_type": "code",
      "source": [
        "number = int(input(\"Enter a number: \"))\n",
        "sum_of_digits = 0\n",
        "while number > 0:\n",
        "    sum_of_digits += number % 10\n",
        "    number = number // 10\n",
        "if sum_of_digits % 2 == 0:\n",
        "    print(\"Sum of digits is even\")\n",
        "else:\n",
        "    print(\"Sum of digits is odd\")\n"
      ],
      "metadata": {
        "colab": {
          "base_uri": "https://localhost:8080/"
        },
        "id": "_zIgEHBCUpSF",
        "outputId": "02fa7d3a-303d-4188-c9b1-253c2a2901b1"
      },
      "execution_count": null,
      "outputs": [
        {
          "output_type": "stream",
          "name": "stdout",
          "text": [
            "Enter a number: 46\n",
            "Sum of digits is even\n"
          ]
        }
      ]
    },
    {
      "cell_type": "code",
      "source": [
        "income = float(input(\"Enter the employee's total income: \"))\n",
        "taxable_income = 0\n",
        "\n",
        "if income <= 300000:\n",
        "    print(\"Taxable income:\", taxable_income)\n",
        "    print(\"Tax amount: Nil\")\n",
        "elif income <= 500000:\n",
        "    taxable_income = income - 300000\n",
        "    tax = taxable_income * 0.05\n",
        "    print(\"Taxable income:\", taxable_income)\n",
        "    print(\"Tax amount:\", tax)\n",
        "elif income <= 1000000:\n",
        "    taxable_income = income - 500000\n",
        "    tax = taxable_income * 0.20 + 10000\n",
        "    print(\"Taxable income:\", taxable_income)\n",
        "    print(\"Tax amount:\", tax)\n",
        "else:\n",
        "    taxable_income = income - 1000000\n",
        "    tax = taxable_income * 0.30 + 110000\n",
        "    print(\"Taxable income:\", taxable_income)\n",
        "    print(\"Tax amount:\", tax)\n"
      ],
      "metadata": {
        "colab": {
          "base_uri": "https://localhost:8080/"
        },
        "id": "-JNWCKhcXgbp",
        "outputId": "a0c2e7cc-2847-4c1a-9b59-1794cb67bf02"
      },
      "execution_count": null,
      "outputs": [
        {
          "output_type": "stream",
          "name": "stdout",
          "text": [
            "Enter the employee's total income: 987654\n",
            "Taxable income: 487654.0\n",
            "Tax amount: 107530.8\n"
          ]
        }
      ]
    },
    {
      "cell_type": "code",
      "source": [
        "def print_pyramid(n):\n",
        "    for i in range(1, n + 1):\n",
        "        print(\" \" * (n - i) + \"\".join(str(j) for j in range(i, 2 * i)) + \"\".join(str(j) for j in range(2 * i - 2, i - 1, -1)))\n",
        "\n",
        "print_pyramid(4)\n"
      ],
      "metadata": {
        "colab": {
          "base_uri": "https://localhost:8080/"
        },
        "id": "rJW8zAisXlk1",
        "outputId": "74ed53ea-8a88-4247-a3c1-60776dd65a1d"
      },
      "execution_count": null,
      "outputs": [
        {
          "output_type": "stream",
          "name": "stdout",
          "text": [
            "   1\n",
            "  232\n",
            " 34543\n",
            "4567654\n"
          ]
        }
      ]
    },
    {
      "cell_type": "markdown",
      "source": [
        "## **G3 Slot**"
      ],
      "metadata": {
        "id": "ueIMXN9TdkUT"
      }
    },
    {
      "cell_type": "code",
      "source": [
        "# Initial values of variables\n",
        "a = 5\n",
        "b = 10\n",
        "\n",
        "# Use a temporary variable to store the value of a\n",
        "temp = a\n",
        "\n",
        "# Assign the value of b to a\n",
        "a = b\n",
        "\n",
        "# Assign the value of the temporary variable (which holds the original value of a) to b\n",
        "b = temp\n",
        "\n",
        "# Print the new values of a and b\n",
        "print(a) # Output: 10\n",
        "print(b) # Output: 5\n"
      ],
      "metadata": {
        "colab": {
          "base_uri": "https://localhost:8080/"
        },
        "id": "bgVWjgmcds4J",
        "outputId": "51de8e76-2bcc-4c73-db97-fa12bf8e0805"
      },
      "execution_count": null,
      "outputs": [
        {
          "output_type": "stream",
          "name": "stdout",
          "text": [
            "10\n",
            "5\n"
          ]
        }
      ]
    },
    {
      "cell_type": "code",
      "source": [
        "# Initialize variables\n",
        "a = 0\n",
        "b = 1\n",
        "\n",
        "# Take input for number of terms to generate\n",
        "n = int(input(\"Enter the number of terms: \"))\n",
        "\n",
        "# Use for loop to generate the series\n",
        "for i in range(n):\n",
        "    # Print the current term\n",
        "    print(a)\n",
        "\n",
        "    # Update the variables for the next term\n",
        "    c = a + b\n",
        "    a = b\n",
        "    b = c\n"
      ],
      "metadata": {
        "colab": {
          "base_uri": "https://localhost:8080/"
        },
        "id": "yQ8fqJb2e84F",
        "outputId": "75853223-98ac-4cba-c1d7-a88140776f2b"
      },
      "execution_count": null,
      "outputs": [
        {
          "output_type": "stream",
          "name": "stdout",
          "text": [
            "Enter the number of terms: 7\n",
            "0\n",
            "1\n",
            "1\n",
            "2\n",
            "3\n",
            "5\n",
            "8\n"
          ]
        }
      ]
    },
    {
      "cell_type": "code",
      "source": [
        "# Take input from user\n",
        "number = int(input(\"Enter a number: \"))\n",
        "\n",
        "# Check the value of the number\n",
        "if number >= 5 and number <= 15:\n",
        "    print(\"GREEN\")\n",
        "elif number > 15 and number <= 25:\n",
        "    print(\"BLUE\")\n",
        "elif number > 25 and number <= 35:\n",
        "    print(\"ORANGE\")\n",
        "else:\n",
        "    print(\"ALL COLOURS ARE BEAUTIFUL\")\n"
      ],
      "metadata": {
        "colab": {
          "base_uri": "https://localhost:8080/"
        },
        "id": "UCDmzrzof6vX",
        "outputId": "46ad45e0-59bc-493e-c177-77acd57d5eba"
      },
      "execution_count": null,
      "outputs": [
        {
          "output_type": "stream",
          "name": "stdout",
          "text": [
            "Enter a number: 21\n",
            "BLUE\n"
          ]
        }
      ]
    },
    {
      "cell_type": "code",
      "source": [
        "# Take input from user\n",
        "x = int(input(\"Enter the first value: \"))\n",
        "y = int(input(\"Enter the second value: \"))\n",
        "\n",
        "# Perform mathematical operations\n",
        "add = x + y\n",
        "sub = x - y\n",
        "mul = x * y\n",
        "div = x / y\n",
        "\n",
        "# Print results\n",
        "print(\"Addition: \", add)\n",
        "print(\"Subtraction: \", sub)\n",
        "print(\"Multiplication: \", mul)\n",
        "print(\"Division: \", div)\n"
      ],
      "metadata": {
        "colab": {
          "base_uri": "https://localhost:8080/"
        },
        "id": "MN0qdD1SgoIl",
        "outputId": "096fc569-746d-40c5-d6c0-356f08ef26b2"
      },
      "execution_count": null,
      "outputs": [
        {
          "output_type": "stream",
          "name": "stdout",
          "text": [
            "Enter the first value: 7\n",
            "Enter the second value: 7\n",
            "Addition:  14\n",
            "Subtraction:  0\n",
            "Multiplication:  49\n",
            "Division:  1.0\n"
          ]
        }
      ]
    },
    {
      "cell_type": "code",
      "source": [
        "for i in range(1, 6):\n",
        "    print(\"*\" * i)\n"
      ],
      "metadata": {
        "colab": {
          "base_uri": "https://localhost:8080/"
        },
        "id": "GmH8VzPKg-BI",
        "outputId": "cb5f63d2-a8a4-408d-ae03-0e1a6a71f5d6"
      },
      "execution_count": null,
      "outputs": [
        {
          "output_type": "stream",
          "name": "stdout",
          "text": [
            "*\n",
            "**\n",
            "***\n",
            "****\n",
            "*****\n"
          ]
        }
      ]
    },
    {
      "cell_type": "markdown",
      "source": [
        "## **SWE1004**"
      ],
      "metadata": {
        "id": "0A2y9tMciNql"
      }
    },
    {
      "cell_type": "code",
      "source": [
        "# Take input from user\n",
        "number = int(input(\"Enter a number: \"))\n",
        "\n",
        "# Copy the original number to a variable\n",
        "temp = number\n",
        "\n",
        "# Initialize a variable to store the sum of the digits\n",
        "sum_of_digits = 0\n",
        "\n",
        "# Use while loop to iterate through each digit\n",
        "while temp > 0:\n",
        "    # Get the last digit of the number\n",
        "    digit = temp % 10\n",
        "\n",
        "    # Add it to the sum\n",
        "    sum_of_digits += digit\n",
        "\n",
        "    # Remove the last digit from the number\n",
        "    temp //= 10\n",
        "\n",
        "# Reverse the sum_of_digits\n",
        "rev = int(str(sum_of_digits)[::-1])\n",
        "\n",
        "#Check if the number is magic number\n",
        "if number == sum_of_digits**rev:\n",
        "    print(number, \"is a magic number.\")\n",
        "else:\n",
        "    print(number, \"is not a magic number.\")\n"
      ],
      "metadata": {
        "colab": {
          "base_uri": "https://localhost:8080/"
        },
        "id": "WTduXvMoiSRU",
        "outputId": "92a7b17c-1889-4585-b919-d981b71ac30a"
      },
      "execution_count": null,
      "outputs": [
        {
          "output_type": "stream",
          "name": "stdout",
          "text": [
            "Enter a number: 1729\n",
            "1729 is not a magic number.\n"
          ]
        }
      ]
    },
    {
      "cell_type": "code",
      "source": [
        "# Initialize a list to store the runs scored\n",
        "runs = []\n",
        "\n",
        "# Take input from the user for the runs scored in each of the last 10 innings\n",
        "for i in range(10):\n",
        "    runs.append(int(input(\"Enter the runs scored in inning \" + str(i+1) + \": \")))\n",
        "\n",
        "# Initialize a variable to store the total runs scored\n",
        "total_runs = 0\n",
        "\n",
        "# Initialize a variable to store the number of scores greater than 30\n",
        "greater_than_30 = 0\n",
        "\n",
        "# Calculate the total runs scored and the number of scores greater than 30\n",
        "for score in runs:\n",
        "    total_runs += score\n",
        "    if score > 30:\n",
        "        greater_than_30 += 1\n",
        "\n",
        "# Calculate the average of the scores greater than 30\n",
        "if greater_than_30 > 0:\n",
        "    average = total_runs / greater_than_30\n",
        "else:\n",
        "    average = 0\n",
        "\n",
        "# Print the average of the scores greater than 30\n",
        "print(\"The average of scores greater than 30 is:\", average)\n"
      ],
      "metadata": {
        "colab": {
          "base_uri": "https://localhost:8080/"
        },
        "id": "y-tG2IUVkCo8",
        "outputId": "946c02f7-3545-468b-ba8b-8933d6c274a5"
      },
      "execution_count": null,
      "outputs": [
        {
          "output_type": "stream",
          "name": "stdout",
          "text": [
            "Enter the runs scored in inning 1: 85\n",
            "Enter the runs scored in inning 2: 58\n",
            "Enter the runs scored in inning 3: 65\n",
            "Enter the runs scored in inning 4: 55\n",
            "Enter the runs scored in inning 5: 58\n",
            "Enter the runs scored in inning 6: 36\n",
            "Enter the runs scored in inning 7: 99\n",
            "Enter the runs scored in inning 8: 125\n",
            "Enter the runs scored in inning 9: 214\n",
            "Enter the runs scored in inning 10: 85\n",
            "The average of scores greater than 30 is: 88.0\n"
          ]
        }
      ]
    },
    {
      "cell_type": "code",
      "source": [
        "# Take input from the user for the lower bound \"a\" and upper bound \"b\"\n",
        "a = int(input(\"Enter the lower bound: \"))\n",
        "b = int(input(\"Enter the upper bound: \"))\n",
        "\n",
        "# Iterate through the range from lower bound \"a\" to upper bound \"b\"\n",
        "for num in range(a, b+1):\n",
        "    # Initialize a variable to track if the number is prime or not\n",
        "    prime = True\n",
        "    # Check if the number is prime or not\n",
        "    if num > 1:\n",
        "        for i in range(2, num):\n",
        "            if (num % i) == 0:\n",
        "                prime = False\n",
        "                break\n",
        "    else:\n",
        "        prime = False\n",
        "    # Print the number if it is prime\n",
        "    if prime:\n",
        "        print(num)\n"
      ],
      "metadata": {
        "colab": {
          "base_uri": "https://localhost:8080/"
        },
        "id": "OBZdLv8il85O",
        "outputId": "8563de86-b7d4-4448-8862-e8be43d20db5"
      },
      "execution_count": null,
      "outputs": [
        {
          "output_type": "stream",
          "name": "stdout",
          "text": [
            "Enter the lower bound: 5\n",
            "Enter the upper bound: 85\n",
            "5\n",
            "7\n",
            "11\n",
            "13\n",
            "17\n",
            "19\n",
            "23\n",
            "29\n",
            "31\n",
            "37\n",
            "41\n",
            "43\n",
            "47\n",
            "53\n",
            "59\n",
            "61\n",
            "67\n",
            "71\n",
            "73\n",
            "79\n",
            "83\n"
          ]
        }
      ]
    },
    {
      "cell_type": "code",
      "source": [],
      "metadata": {
        "id": "auskPy6am_A5"
      },
      "execution_count": null,
      "outputs": []
    },
    {
      "cell_type": "markdown",
      "source": [
        "# **E1 slot**"
      ],
      "metadata": {
        "id": "c0BpLBIZrBqM"
      }
    },
    {
      "cell_type": "code",
      "source": [
        "# Take input from the user\n",
        "num = int(input(\"Enter a number: \"))\n",
        "\n",
        "# Initialize sum\n",
        "sum = 0\n",
        "\n",
        "# Find the sum of the cube of each digit\n",
        "temp = num\n",
        "while temp > 0:\n",
        "   digit = temp % 10\n",
        "   sum += digit ** 3\n",
        "   temp //= 10\n",
        "\n",
        "# Display the result\n",
        "if num == sum:\n",
        "   print(num,\"is an Armstrong number\")\n",
        "else:\n",
        "   print(num,\"is not an Armstrong number\")\n"
      ],
      "metadata": {
        "colab": {
          "base_uri": "https://localhost:8080/"
        },
        "id": "Q_91TFWFrGBq",
        "outputId": "e6c79012-b401-4a4c-956d-662a25db93c5"
      },
      "execution_count": null,
      "outputs": [
        {
          "output_type": "stream",
          "name": "stdout",
          "text": [
            "Enter a number: 321\n",
            "321 is not an Armstrong number\n"
          ]
        }
      ]
    },
    {
      "cell_type": "code",
      "source": [
        "# Take input from the user\n",
        "mrp = float(input(\"Enter the MRP: \"))\n",
        "\n",
        "# Initialize discount and GST variables\n",
        "discount = 0\n",
        "gst = 0.09\n",
        "\n",
        "# Calculate discount and GST\n",
        "if mrp <= 2000:\n",
        "    discount = 0.05\n",
        "elif mrp <= 5000:\n",
        "    discount = 0.1\n",
        "elif mrp <= 10000:\n",
        "    discount = 0.15\n",
        "else:\n",
        "    discount = 0.2\n",
        "\n",
        "# Calculate the discounted price\n",
        "discounted_price = mrp - (mrp * discount)\n",
        "\n",
        "# Calculate the final amount to be paid\n",
        "amount = discounted_price + (discounted_price * gst)\n",
        "\n",
        "# Print the final amount\n",
        "print(\"Amount to be paid: Rs.\", amount)\n"
      ],
      "metadata": {
        "colab": {
          "base_uri": "https://localhost:8080/"
        },
        "id": "LGOvIyLMx5DC",
        "outputId": "89561ab5-29b5-46be-b749-07dae8148485"
      },
      "execution_count": 10,
      "outputs": [
        {
          "output_type": "stream",
          "name": "stdout",
          "text": [
            "Enter the MRP: 6789\n",
            "Amount to be paid: Rs. 6290.0085\n"
          ]
        }
      ]
    },
    {
      "cell_type": "code",
      "source": [
        "# Take input from the user\n",
        "char = input(\"Enter a character: \")\n",
        "\n",
        "# Check if the character is a vowel\n",
        "if char == 'a' or char == 'e' or char == 'i' or char == 'o' or char == 'u' or char == 'A' or char == 'E' or char == 'I' or char == 'O' or char == 'U':\n",
        "    print(\"The character is a vowel.\")\n",
        "else:\n",
        "    print(\"The character is a consonant.\")\n"
      ],
      "metadata": {
        "colab": {
          "base_uri": "https://localhost:8080/"
        },
        "id": "nHnGf81yrf-o",
        "outputId": "46ed5159-76f0-48c2-c82e-4153e8666a2b"
      },
      "execution_count": null,
      "outputs": [
        {
          "output_type": "stream",
          "name": "stdout",
          "text": [
            "Enter a character: A\n",
            "The character is a vowel.\n"
          ]
        }
      ]
    },
    {
      "cell_type": "code",
      "source": [
        "# Initialize sum\n",
        "sum = 0\n",
        "\n",
        "# Iterate through all the numbers from 1 to 500\n",
        "for i in range(1, 500):\n",
        "    # Check if the number is a multiple of 3 or 5\n",
        "    if i % 3 == 0 or i % 5 == 0:\n",
        "        # If it is, add it to the sum\n",
        "        sum += i\n",
        "\n",
        "# Print the sum\n",
        "print(\"The sum of all the multiples of 3 or 5 below 500 is:\", sum)\n"
      ],
      "metadata": {
        "id": "BL0gpOTXsO56",
        "colab": {
          "base_uri": "https://localhost:8080/"
        },
        "outputId": "d07a64f6-3ae8-486a-9cca-11c660b3a07a"
      },
      "execution_count": 3,
      "outputs": [
        {
          "output_type": "stream",
          "name": "stdout",
          "text": [
            "The sum of all the multiples of 3 or 5 below 500 is: 57918\n"
          ]
        }
      ]
    },
    {
      "cell_type": "code",
      "source": [
        "for i in range(1,7):\n",
        "    print(\" \"*(i-1) + \"* \"*(7-i))\n"
      ],
      "metadata": {
        "colab": {
          "base_uri": "https://localhost:8080/"
        },
        "id": "fj78ee0tungC",
        "outputId": "874fa856-793e-484a-c742-d0f81e252225"
      },
      "execution_count": 4,
      "outputs": [
        {
          "output_type": "stream",
          "name": "stdout",
          "text": [
            "* * * * * * \n",
            " * * * * * \n",
            "  * * * * \n",
            "   * * * \n",
            "    * * \n",
            "     * \n"
          ]
        }
      ]
    },
    {
      "cell_type": "code",
      "source": [
        "n = 1\n",
        "for i in range(1, 7):\n",
        "    print(\" \"*(6-i)*2 + \"\".join(str(n) for n in range(n, n+i)))\n",
        "    n += i\n"
      ],
      "metadata": {
        "colab": {
          "base_uri": "https://localhost:8080/"
        },
        "id": "hx5xZ7cuvfPA",
        "outputId": "6047750c-c72d-4a96-b504-8af7d2549253"
      },
      "execution_count": 8,
      "outputs": [
        {
          "output_type": "stream",
          "name": "stdout",
          "text": [
            "          1\n",
            "        23\n",
            "      456\n",
            "    78910\n",
            "  1112131415\n",
            "161718192021\n"
          ]
        }
      ]
    },
    {
      "cell_type": "markdown",
      "source": [
        "## **E2 Slot**"
      ],
      "metadata": {
        "id": "k5tO5cn5yfvp"
      }
    },
    {
      "cell_type": "code",
      "source": [
        "# Take input from the user\n",
        "num = int(input(\"Enter a number: \"))\n",
        "\n",
        "# Initialize sum\n",
        "sum = 0\n",
        "\n",
        "# Find the sum of the cube of each digit\n",
        "temp = num\n",
        "while temp > 0:\n",
        "   digit = temp % 10\n",
        "   sum += digit ** 3\n",
        "   temp //= 10\n",
        "\n",
        "# Display the result\n",
        "if num == sum:\n",
        "   print(num,\"is an Armstrong number\")\n",
        "else:\n",
        "   print(num,\"is not an Armstrong number\")\n"
      ],
      "metadata": {
        "colab": {
          "base_uri": "https://localhost:8080/"
        },
        "id": "fdWv09K-ykuC",
        "outputId": "babb507e-87bf-4ed5-ab70-cefd477db6d5"
      },
      "execution_count": 11,
      "outputs": [
        {
          "output_type": "stream",
          "name": "stdout",
          "text": [
            "Enter a number: 145\n",
            "145 is not an Armstrong number\n"
          ]
        }
      ]
    },
    {
      "cell_type": "code",
      "source": [
        "# Initialize sum\n",
        "sum = 0\n",
        "\n",
        "# Iterate through all the numbers from 1 to 500\n",
        "for i in range(1, 500):\n",
        "    # Check if the number is a multiple of 3 or 5\n",
        "    if i % 3 == 0 or i % 5 == 0:\n",
        "        # If it is, add it to the sum\n",
        "        sum += i\n",
        "\n",
        "# Print the sum\n",
        "print(\"The sum of all the multiples of 3 or 5 below 500 is:\", sum)\n"
      ],
      "metadata": {
        "colab": {
          "base_uri": "https://localhost:8080/"
        },
        "id": "Y5RuNBm6w-41",
        "outputId": "f8b485ab-5742-4ccf-e901-a4e22ccaa2e4"
      },
      "execution_count": 12,
      "outputs": [
        {
          "output_type": "stream",
          "name": "stdout",
          "text": [
            "The sum of all the multiples of 3 or 5 below 500 is: 57918\n"
          ]
        }
      ]
    },
    {
      "cell_type": "code",
      "source": [
        "# Take input from the user\n",
        "lower_bound = int(input(\"Enter the lower bound: \"))\n",
        "upper_bound = int(input(\"Enter the upper bound: \"))\n",
        "\n",
        "# Initialize sum\n",
        "sum = 0\n",
        "\n",
        "# Use for loop to iterate through the range of numbers\n",
        "for i in range(lower_bound, upper_bound+1):\n",
        "    # Add the current number to the sum\n",
        "    sum += i\n",
        "\n",
        "# Print the sum\n",
        "print(\"The sum of the numbers between\", lower_bound, \"and\", upper_bound, \"is:\", sum)\n"
      ],
      "metadata": {
        "colab": {
          "base_uri": "https://localhost:8080/"
        },
        "id": "cyGMiu_XzTTk",
        "outputId": "26601798-b5c4-4afa-a9f0-1417c3a8f705"
      },
      "execution_count": 13,
      "outputs": [
        {
          "output_type": "stream",
          "name": "stdout",
          "text": [
            "Enter the lower bound: 7\n",
            "Enter the upper bound: 77\n",
            "The sum of the numbers between 7 and 77 is: 2982\n"
          ]
        }
      ]
    },
    {
      "cell_type": "code",
      "source": [
        "letter = 'A'\n",
        "for i in range(1,6):\n",
        "    for j in range(i):\n",
        "        print(chr(ord(letter) + j), end=\" \")\n",
        "    print()\n",
        "    letter = chr(ord(letter) + i)\n"
      ],
      "metadata": {
        "colab": {
          "base_uri": "https://localhost:8080/"
        },
        "id": "Ii94MeZuzeqy",
        "outputId": "ef2a882f-1e5d-45cc-8c5a-03e5fdb0851a"
      },
      "execution_count": 15,
      "outputs": [
        {
          "output_type": "stream",
          "name": "stdout",
          "text": [
            "A \n",
            "B C \n",
            "D E F \n",
            "G H I J \n",
            "K L M N O \n"
          ]
        }
      ]
    },
    {
      "cell_type": "code",
      "source": [
        "for i in range(1, 6):\n",
        "    print(\" \"*(5-i) + \"\".join(str(n) for n in range(1, i+1)))\n",
        "\n"
      ],
      "metadata": {
        "colab": {
          "base_uri": "https://localhost:8080/"
        },
        "id": "MqnJNv5j0PQL",
        "outputId": "d89dbf69-aaa1-4b2d-968e-606f44603360"
      },
      "execution_count": 17,
      "outputs": [
        {
          "output_type": "stream",
          "name": "stdout",
          "text": [
            "    1\n",
            "   12\n",
            "  123\n",
            " 1234\n",
            "12345\n"
          ]
        }
      ]
    }
  ]
}